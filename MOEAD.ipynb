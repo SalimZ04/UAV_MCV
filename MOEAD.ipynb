{
  "nbformat": 4,
  "nbformat_minor": 0,
  "metadata": {
    "colab": {
      "provenance": [],
      "authorship_tag": "ABX9TyMu8TzhBStbb67XGkAbtKvA",
      "include_colab_link": true
    },
    "kernelspec": {
      "name": "python3",
      "display_name": "Python 3"
    },
    "language_info": {
      "name": "python"
    }
  },
  "cells": [
    {
      "cell_type": "markdown",
      "metadata": {
        "id": "view-in-github",
        "colab_type": "text"
      },
      "source": [
        "<a href=\"https://colab.research.google.com/github/SalimZ04/UAV_MCV/blob/main/MOEAD.ipynb\" target=\"_parent\"><img src=\"https://colab.research.google.com/assets/colab-badge.svg\" alt=\"Open In Colab\"/></a>"
      ]
    },
    {
      "cell_type": "markdown",
      "source": [
        "**PYMOO** est une bibliothèque Python pour la résolution de problèmes d'optimisation multi-objectif. Elle implémente divers algorithmes d'optimisation multi-objectifs avec une interface simple et facile à utiliser. Pymoo est open source et est régulièrement mis à jour avec de nouvelles fonctionnalités et améliorations."
      ],
      "metadata": {
        "id": "h0T8unRUwk0w"
      }
    },
    {
      "cell_type": "code",
      "execution_count": null,
      "metadata": {
        "id": "BDMniu_ywiN-"
      },
      "outputs": [],
      "source": [
        "# installation pymoo\n",
        "!pip install -U pymoo"
      ]
    },
    {
      "cell_type": "code",
      "source": [
        "!pip install --pre -U pymoo # pymoo candidat"
      ],
      "metadata": {
        "id": "ias7v0ngxUNZ"
      },
      "execution_count": null,
      "outputs": []
    },
    {
      "cell_type": "code",
      "source": [
        "from pymoo.algorithms.moo.moead import MOEAD # multi objective algo par decomposition\n",
        "from pymoo.optimize import minimize\n",
        "from pymoo.problems import get_problem\n",
        "from pymoo.util.ref_dirs import get_reference_directions\n",
        "from pymoo.visualization.scatter import Scatter"
      ],
      "metadata": {
        "id": "Q03S9YAv7-HZ"
      },
      "execution_count": 98,
      "outputs": []
    },
    {
      "cell_type": "markdown",
      "source": [
        "**SCATTER**  : un type de tracé ou de diagramme mathématique utilisant des coordonnées cartésiennes pour afficher les valeurs de généralement deux variables pour un ensemble de données. Si les points sont codés (couleur/forme/taille), une variable supplémentaire peut être affichée. Les données sont affichées sous la forme d'un ensemble de points, chacun ayant la valeur d'une variable déterminant la position sur l'axe horizontal et la valeur de l'autre variable déterminant la position sur l'axe vertical."
      ],
      "metadata": {
        "id": "uh26Q-nUo8LW"
      }
    },
    {
      "cell_type": "markdown",
      "source": [
        "# Multi-objective: la solution perato par problemes.(get_problem)\n",
        "\n",
        "    :ZDT1\n",
        "    :ZDT2\n",
        "    :ZDT3\n",
        "    :ZDT4\n",
        "    :ZDT6"
      ],
      "metadata": {
        "id": "KQhAQIa89PGj"
      }
    },
    {
      "cell_type": "code",
      "source": [
        "problem = get_problem(\"dtlz2\") # Returns a 3-tuple with the objective function\n",
        "\n",
        "ref_dirs = get_reference_directions(\"uniform\", 3, n_partitions=12) #n_partitions qui détermine combien de points seront échantillonnés.\n"
      ],
      "metadata": {
        "id": "mu2A1eAh8E9Y"
      },
      "execution_count": null,
      "outputs": []
    },
    {
      "cell_type": "markdown",
      "source": [],
      "metadata": {
        "id": "LtQQHw1Q9Z4K"
      }
    },
    {
      "cell_type": "code",
      "source": [
        "algorithm = MOEAD(\n",
        "    ref_dirs, #faire la distance entre points\n",
        "    n_neighbors=12, # voisins des points\n",
        "    prob_neighbor_mating=0.7,  #des points couples\n",
        ")"
      ],
      "metadata": {
        "id": "wJMhFTdH8Iro"
      },
      "execution_count": null,
      "outputs": []
    },
    {
      "cell_type": "code",
      "source": [
        "res = minimize(problem,\n",
        "               algorithm,\n",
        "               ('n_gen', 100),\n",
        "               seed=1, #minimiser entre points\n",
        "               verbose=False)  # verbose=True detecter specifique les points"
      ],
      "metadata": {
        "id": "EFhpnXQm8MWS"
      },
      "execution_count": null,
      "outputs": []
    },
    {
      "cell_type": "code",
      "source": [
        "Scatter().add(res.F).show()\n"
      ],
      "metadata": {
        "id": "o7Qxd00sizIP"
      },
      "execution_count": null,
      "outputs": []
    },
    {
      "cell_type": "markdown",
      "source": [],
      "metadata": {
        "id": "jVDlR3P6j8AE"
      }
    },
    {
      "cell_type": "code",
      "source": [
        "#plot = Scatter()\n",
        "#plot.add(problem.pareto_front(), plot_type=\"line\", color=\"black\", alpha=0.7)\n",
        "#plot.add(res.F, color=\"red\")\n",
        "#plot.show()"
      ],
      "metadata": {
        "id": "erc1GsoI8V2K"
      },
      "execution_count": null,
      "outputs": []
    },
    {
      "cell_type": "markdown",
      "source": [
        "Multi-layer:\n",
        "*Cette approche utilise l'idée de mettre à l'échelle différents simplexes. Cela nécessite que l'utilisateur définisse différentes couches, y compris la dimensionnalité n_dim, le numéro de partition n_partitions et la mise à l'échelle correspondante. Par exemple, pour trois dimensions, un biais vers le centre peut être obtenu comme suit :*"
      ],
      "metadata": {
        "id": "RVdgEGkmAmum"
      }
    },
    {
      "cell_type": "code",
      "source": [
        "ref_dirs = get_reference_directions(\n",
        "    \"multi-layer\",\n",
        "    #  get_reference_directions(name, *args, **kwargs)\n",
        "    get_reference_directions(\"das-dennis\", 3, n_partitions=12, scaling=1.0), # n_partitions qui détermine combien de points seront échantillonnés.\n",
        "    get_reference_directions(\"das-dennis\", 3, n_partitions=12, scaling=0.5)   \n",
        ")\n",
        "#Scaler qui est un moyen simple et rapide d'effectuer l'opération suivante sur un tableau de type\n",
        "Scatter().add(ref_dirs).show()"
      ],
      "metadata": {
        "id": "XtwFDkbGAoWi"
      },
      "execution_count": null,
      "outputs": []
    },
    {
      "cell_type": "code",
      "source": [
        "#plot = Scatter()\n",
        "#plot.add(problem.pareto_front(), plot_type=\"line\", color=\"black\", alpha=0.2)\n",
        "#plot.add(ref_dirs, color=\"red\")\n",
        "#plot.show()"
      ],
      "metadata": {
        "id": "eoLMfn7zkGF_"
      },
      "execution_count": null,
      "outputs": []
    },
    {
      "cell_type": "markdown",
      "source": [
        "**Energy** : La solution potentielle minimale correspond à une distribution diversifiée de corps multiples dans l'espace physique tridimensionnel. Tout en traitant d'un multidimensionnel (s) de l'espace, on utilise une généralisation de l'énergie potentielle."
      ],
      "metadata": {
        "id": "ZSMDcpWYxwUs"
      }
    },
    {
      "cell_type": "code",
      "source": [
        "ref_dirs = get_reference_directions(\"energy\", 3, 250, seed=1)\n",
        "Scatter().add(ref_dirs).show()\n",
        "\n"
      ],
      "metadata": {
        "id": "kezufUVtdkuv"
      },
      "execution_count": null,
      "outputs": []
    },
    {
      "cell_type": "code",
      "source": [
        "#plot = Scatter()\n",
        "#plot.add(problem.pareto_front(), plot_type=\"line\", color=\"black\", alpha=0.7)\n",
        "#plot.add(ref_dirs, color=\"red\")\n",
        "#plot.show()"
      ],
      "metadata": {
        "id": "K_Z8CABskq13"
      },
      "execution_count": null,
      "outputs": []
    },
    {
      "cell_type": "markdown",
      "source": [
        "**das dennis** : permet de créer des directions de référence de manière très structurée. Les points peuvent être uniformément créés sur le simplexe unitaire en utilisant la méthode Das-Dennis.\n",
        "\n",
        "\n",
        "\n"
      ],
      "metadata": {
        "id": "HfS9wkRgDR2l"
      }
    },
    {
      "cell_type": "code",
      "source": [
        "from pymoo.util.ref_dirs import get_reference_directions\n",
        "from pymoo.visualization.pcp import PCP\n"
      ],
      "metadata": {
        "id": "r2w7FqWTB4o3"
      },
      "execution_count": null,
      "outputs": []
    },
    {
      "cell_type": "markdown",
      "source": [
        "**PCP**: Pour les données de plus grande dimension, les tracés de coordonnées parallèles sont une technique puissante pour analyser la façon dont les solutions denses sont distribuées dans différentes plages concernant chaque coordonnée."
      ],
      "metadata": {
        "id": "dGIkBH390WBG"
      }
    },
    {
      "cell_type": "code",
      "source": [
        "ref_dirs = get_reference_directions(\n",
        "    \"multi-layer\",\n",
        "    get_reference_directions(\"das-dennis\", 8, n_partitions=3, scaling=1.0),\n",
        "    get_reference_directions(\"das-dennis\", 8, n_partitions=2, scaling=0.5),\n",
        ")\n",
        "\n",
        "PCP().add(ref_dirs).show()"
      ],
      "metadata": {
        "id": "KGly2MoY0LKl"
      },
      "execution_count": null,
      "outputs": []
    },
    {
      "cell_type": "code",
      "source": [
        "#from pymoo.problems.many.dtlz import DTLZ1\n",
        "#from pymoo.util.reference_direction import UniformReferenceDirectionFactory\n",
        "\n",
        "#ref_dirs = UniformReferenceDirectionFactory(6, n_partitions=5)() * [2, 4, 8, 16, 32, 64]\n",
        "#F = DTLZ1().pareto_front(ref_dirs)\n",
        "#from pymoo.visualization.pcp import PCP\n",
        "#PCP().add(F).show()\n",
        "#plot = PCP()\n",
        "#plot.set_axis_style(color=\"grey\", alpha=0.5)\n",
        "#plot.add(F, color=\"grey\", alpha=0.3)\n",
        "#plot.add(F[50], linewidth=5, color=\"red\")\n",
        "#plot.add(F[75], linewidth=5, color=\"blue\")\n",
        "#plot.show()"
      ],
      "metadata": {
        "id": "PpDxlP-V1DHm"
      },
      "execution_count": null,
      "outputs": []
    },
    {
      "cell_type": "code",
      "source": [
        "plot = PCP(title=(\"Run\", {'pad': 30}),\n",
        "           n_ticks=10,\n",
        "           legend=(True, {'loc': \"upper left\"}),\n",
        "           labels=[\"profit\", \"cost\", \"sustainability\", \"environment\", \"satisfaction\", \"time\"]\n",
        "           )\n",
        "\n",
        "plot.set_axis_style(color=\"grey\", alpha=1)\n",
        "plot.add(F, color=\"grey\", alpha=0.3)\n",
        "plot.add(F[50], linewidth=5, color=\"red\", label=\"Solution A\")\n",
        "plot.add(F[75], linewidth=5, color=\"blue\", label=\"Solution B\")\n",
        "plot.show()"
      ],
      "metadata": {
        "id": "QvteB9Xb18g-"
      },
      "execution_count": null,
      "outputs": []
    },
    {
      "cell_type": "markdown",
      "source": [
        "**Layer-energy** : Une approche plus générique qui ne nécessite AUCUNE mise à l'échelle fournie par l'utilisateur consiste à utiliser la méthode Riesz s-Energy pour optimiser non pas directement les directions de référence, mais les mises à l'échelle.\n"
      ],
      "metadata": {
        "id": "c46Cmq811yg-"
      }
    },
    {
      "cell_type": "code",
      "source": [
        "partitions = [3, 2, 1, 1]\n",
        "\n",
        "ref_dirs = get_reference_directions(\"layer-energy\", 8, partitions)\n",
        "PCP().add(ref_dirs).show()"
      ],
      "metadata": {
        "id": "rGG-pdYFDaaw"
      },
      "execution_count": null,
      "outputs": []
    },
    {
      "cell_type": "markdown",
      "source": [
        "**MOEAd** Par Decomposition"
      ],
      "metadata": {
        "id": "SVM9-nbPoh-C"
      }
    },
    {
      "cell_type": "code",
      "source": [
        "import matplotlib.pyplot as plt\n",
        "import numpy as np\n",
        "from pymoo.util.misc import all_combinations\n",
        "\n",
        "# nombre de points à utiliser pour le tracé\n",
        "n_points = 100\n",
        "\n",
        "#  xlim  matplotlib.pyplot.xlim(*args, **kwargs)[source]\n",
        "P = np.linspace(0, 3, n_points)\n",
        "\n",
        "# utilisé pour le meshgrid : Il faut d'abord générer des tableaux X et Y (noms arbitraires) \n",
        "# qui contiennent les valeurs des abscisses et ordonnées pour chacun des points grâce à la fonction meshgrid() \n",
        "X = all_combinations(P,P)"
      ],
      "metadata": {
        "id": "aqpJYoG3o2x6"
      },
      "execution_count": null,
      "outputs": []
    },
    {
      "cell_type": "markdown",
      "source": [
        "Plot_contour : est une technique graphique permettant de représenter une surface tridimensionnelle en traçant des tranches z constantes, appelées contours, sur un format bidimensionnel. C'est-à-dire que, étant donné une valeur pour z, des lignes sont tracées pour relier les coordonnées (x, y) où cette valeur z se produit.\n",
        "\n"
      ],
      "metadata": {
        "id": "qz3KIm_co-zb"
      }
    },
    {
      "cell_type": "code",
      "source": [
        "def plot_contour(X, F):\n",
        "    _X = X[:, 0].reshape((n_points,n_points))\n",
        "    _Y = X[:, 1].reshape((n_points,n_points))\n",
        "    _Z = F.reshape((n_points,n_points))\n",
        "\n",
        "    fig, ax = plt.subplots()\n",
        "    ax.contour(_X,_Y, _Z, colors='black')\n",
        "    ax.arrow(0, 0, 2.5, 2.5, color='blue', head_width=0.1, head_length=0.1, alpha=0.4)\n",
        "    ax.set_aspect('equal')"
      ],
      "metadata": {
        "id": "OKgPiAVpo_QT"
      },
      "execution_count": 88,
      "outputs": []
    },
    {
      "cell_type": "markdown",
      "source": [
        "Et ensuite définir les poids à utiliser par les fonctions de décomposition :"
      ],
      "metadata": {
        "id": "s8es1USopWhi"
      }
    },
    {
      "cell_type": "code",
      "source": [
        "weights = [0.5, 0.5]"
      ],
      "metadata": {
        "id": "3OsVTzj_pbl4"
      },
      "execution_count": 89,
      "outputs": []
    },
    {
      "cell_type": "markdown",
      "source": [
        "Somme du  Poids "
      ],
      "metadata": {
        "id": "ueYrnrmrpikF"
      }
    },
    {
      "cell_type": "code",
      "source": [
        "from pymoo.decomposition.weighted_sum import WeightedSum\n",
        "\n",
        "dm = WeightedSum()\n",
        "# X = all_combinations(P,P)\n",
        "# plot_contour(X, F)\n",
        "plot_contour(X, dm(X, weights=weights))"
      ],
      "metadata": {
        "id": "tGPdf8u0pkXz"
      },
      "execution_count": null,
      "outputs": []
    },
    {
      "cell_type": "markdown",
      "source": [
        "**PBI** : est une métrique qui mesure la distance entre le front de Pareto (ensemble de toutes les solutions non dominées) et le point de référence (un point défini par l'utilisateur qui représente la solution idéale)."
      ],
      "metadata": {
        "id": "Z5UW1tl1qIRH"
      }
    },
    {
      "cell_type": "code",
      "source": [
        "from pymoo.decomposition.pbi import PBI\n",
        "\n",
        "dm = PBI(eps=0.0, theta=0.5)\n",
        "\n",
        "plot_contour(X, dm(X, weights=weights))"
      ],
      "metadata": {
        "id": "rlZwHX0xqJMn"
      },
      "execution_count": null,
      "outputs": []
    },
    {
      "cell_type": "code",
      "source": [
        "dm = PBI(eps=0.0, theta=1.0)\n",
        "plot_contour(X, dm(X, weights=weights))"
      ],
      "metadata": {
        "id": "VnrfDxKpqhWx"
      },
      "execution_count": null,
      "outputs": []
    },
    {
      "cell_type": "code",
      "source": [
        "dm = PBI(eps=0.0, theta=5.0)\n",
        "plot_contour(X, dm(X, weights=weights))"
      ],
      "metadata": {
        "id": "av2FEoUnqlYk"
      },
      "execution_count": null,
      "outputs": []
    }
  ]
}