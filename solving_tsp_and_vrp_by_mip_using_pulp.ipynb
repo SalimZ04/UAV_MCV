{
  "cells": [
    {
      "cell_type": "markdown",
      "metadata": {
        "id": "view-in-github",
        "colab_type": "text"
      },
      "source": [
        "<a href=\"https://colab.research.google.com/github/SalimZ04/UAV_MCV/blob/main/solving_tsp_and_vrp_by_mip_using_pulp.ipynb\" target=\"_parent\"><img src=\"https://colab.research.google.com/assets/colab-badge.svg\" alt=\"Open In Colab\"/></a>"
      ]
    },
    {
      "cell_type": "markdown",
      "source": [
        "**PuLP** est une bibliothèque open-source pour la programmation linéaire en Python. Elle fournit une interface simple pour la modélisation et la résolution de problèmes de programmation linéaire, mixte-entière, quadratique, non linéaire et en nombres entiers mixtes."
      ],
      "metadata": {
        "id": "9PM_5_Uk-k-B"
      }
    },
    {
      "metadata": {
        "trusted": true,
        "colab": {
          "base_uri": "https://localhost:8080/"
        },
        "id": "sRbvzCB6dKbl",
        "outputId": "b8f5a2d6-9689-432f-c860-fd916c0cf62a"
      },
      "cell_type": "code",
      "source": [
        "!pip install pulp"
      ],
      "execution_count": 1,
      "outputs": [
        {
          "output_type": "stream",
          "name": "stdout",
          "text": [
            "Looking in indexes: https://pypi.org/simple, https://us-python.pkg.dev/colab-wheels/public/simple/\n",
            "Requirement already satisfied: pulp in /usr/local/lib/python3.10/dist-packages (2.7.0)\n"
          ]
        }
      ]
    },
    {
      "cell_type": "markdown",
      "source": [
        "**scipy.spatial.distance_matrix** est une fonction de la bibliothèque Python Scipy qui permet de calculer une matrice de distances entre des paires de points donnés.\n",
        "\n",
        "La fonction prend en entrée deux tableaux X et Y représentant les positions des points dans l'espace. Ces tableaux doivent avoir une dimension de la forme (n_samples, n_features), où n_samples est le nombre de points et n_features est le nombre de dimensions de l'espace."
      ],
      "metadata": {
        "id": "D06z7uuW-299"
      }
    },
    {
      "metadata": {
        "_uuid": "8f2839f25d086af736a60e9eeb907d3b93b6e0e5",
        "_cell_guid": "b1076dfc-b9ad-4769-8c92-a6c4dae69d19",
        "trusted": true,
        "id": "k2lWHZ_8dKbr"
      },
      "cell_type": "code",
      "source": [
        "import itertools\n",
        "\n",
        "import numpy as np\n",
        "import pandas as pd\n",
        "from scipy.spatial import distance_matrix\n",
        "import matplotlib\n",
        "import matplotlib.pylab as plt\n",
        "import seaborn as sns\n",
        "import pulp\n",
        "\n",
        "import warnings\n",
        "warnings.filterwarnings(\"ignore\")"
      ],
      "execution_count": 2,
      "outputs": []
    },
    {
      "metadata": {
        "id": "TngBsJo-dKbv"
      },
      "cell_type": "markdown",
      "source": [
        "## Traveling Salesman Problem; TSP\n",
        "> **Etape 1**:  ce code génère un problème de voyageur de commerce avec 9 clients à visiter, en utilisant des coordonnées aléatoires pour chaque point dans le problème.\n",
        "\n"
      ]
    },
    {
      "metadata": {
        "trusted": true,
        "colab": {
          "base_uri": "https://localhost:8080/",
          "height": 363
        },
        "id": "Wu5jZtMddKbz",
        "outputId": "21e6d28e-a903-4259-aa36-050ff3bc7a57"
      },
      "cell_type": "code",
      "source": [
        "# define TSP\n",
        "n_customer = 9\n",
        "n_point = n_customer + 1\n",
        "\n",
        "# Cela signifie que le nombre total de points dans le problème du voyageur de commerce est de 10, avec 9 clients à visiter et un point de départ\n",
        "\n",
        "df = pd.DataFrame({\n",
        "    'x': np.random.randint(0, 100, n_point),\n",
        "    'y': np.random.randint(0, 100, n_point),\n",
        "})\n",
        "#Le premier point dans le DataFrame, qui représente le point de départ, est défini avec des coordonnées de (0, 0).\n",
        "df.iloc[0]['x'] = 0\n",
        "df.iloc[0]['y'] = 0\n",
        "\n",
        "df"
      ],
      "execution_count": 3,
      "outputs": [
        {
          "output_type": "execute_result",
          "data": {
            "text/plain": [
              "    x   y\n",
              "0   0   0\n",
              "1  69  54\n",
              "2  50  18\n",
              "3  16  91\n",
              "4  80  59\n",
              "5  57  68\n",
              "6  96  24\n",
              "7  57  12\n",
              "8  68  11\n",
              "9  60   1"
            ],
            "text/html": [
              "\n",
              "  <div id=\"df-53716487-3a8d-40fa-a15d-3aa1b59aa2ec\">\n",
              "    <div class=\"colab-df-container\">\n",
              "      <div>\n",
              "<style scoped>\n",
              "    .dataframe tbody tr th:only-of-type {\n",
              "        vertical-align: middle;\n",
              "    }\n",
              "\n",
              "    .dataframe tbody tr th {\n",
              "        vertical-align: top;\n",
              "    }\n",
              "\n",
              "    .dataframe thead th {\n",
              "        text-align: right;\n",
              "    }\n",
              "</style>\n",
              "<table border=\"1\" class=\"dataframe\">\n",
              "  <thead>\n",
              "    <tr style=\"text-align: right;\">\n",
              "      <th></th>\n",
              "      <th>x</th>\n",
              "      <th>y</th>\n",
              "    </tr>\n",
              "  </thead>\n",
              "  <tbody>\n",
              "    <tr>\n",
              "      <th>0</th>\n",
              "      <td>0</td>\n",
              "      <td>0</td>\n",
              "    </tr>\n",
              "    <tr>\n",
              "      <th>1</th>\n",
              "      <td>69</td>\n",
              "      <td>54</td>\n",
              "    </tr>\n",
              "    <tr>\n",
              "      <th>2</th>\n",
              "      <td>50</td>\n",
              "      <td>18</td>\n",
              "    </tr>\n",
              "    <tr>\n",
              "      <th>3</th>\n",
              "      <td>16</td>\n",
              "      <td>91</td>\n",
              "    </tr>\n",
              "    <tr>\n",
              "      <th>4</th>\n",
              "      <td>80</td>\n",
              "      <td>59</td>\n",
              "    </tr>\n",
              "    <tr>\n",
              "      <th>5</th>\n",
              "      <td>57</td>\n",
              "      <td>68</td>\n",
              "    </tr>\n",
              "    <tr>\n",
              "      <th>6</th>\n",
              "      <td>96</td>\n",
              "      <td>24</td>\n",
              "    </tr>\n",
              "    <tr>\n",
              "      <th>7</th>\n",
              "      <td>57</td>\n",
              "      <td>12</td>\n",
              "    </tr>\n",
              "    <tr>\n",
              "      <th>8</th>\n",
              "      <td>68</td>\n",
              "      <td>11</td>\n",
              "    </tr>\n",
              "    <tr>\n",
              "      <th>9</th>\n",
              "      <td>60</td>\n",
              "      <td>1</td>\n",
              "    </tr>\n",
              "  </tbody>\n",
              "</table>\n",
              "</div>\n",
              "      <button class=\"colab-df-convert\" onclick=\"convertToInteractive('df-53716487-3a8d-40fa-a15d-3aa1b59aa2ec')\"\n",
              "              title=\"Convert this dataframe to an interactive table.\"\n",
              "              style=\"display:none;\">\n",
              "        \n",
              "  <svg xmlns=\"http://www.w3.org/2000/svg\" height=\"24px\"viewBox=\"0 0 24 24\"\n",
              "       width=\"24px\">\n",
              "    <path d=\"M0 0h24v24H0V0z\" fill=\"none\"/>\n",
              "    <path d=\"M18.56 5.44l.94 2.06.94-2.06 2.06-.94-2.06-.94-.94-2.06-.94 2.06-2.06.94zm-11 1L8.5 8.5l.94-2.06 2.06-.94-2.06-.94L8.5 2.5l-.94 2.06-2.06.94zm10 10l.94 2.06.94-2.06 2.06-.94-2.06-.94-.94-2.06-.94 2.06-2.06.94z\"/><path d=\"M17.41 7.96l-1.37-1.37c-.4-.4-.92-.59-1.43-.59-.52 0-1.04.2-1.43.59L10.3 9.45l-7.72 7.72c-.78.78-.78 2.05 0 2.83L4 21.41c.39.39.9.59 1.41.59.51 0 1.02-.2 1.41-.59l7.78-7.78 2.81-2.81c.8-.78.8-2.07 0-2.86zM5.41 20L4 18.59l7.72-7.72 1.47 1.35L5.41 20z\"/>\n",
              "  </svg>\n",
              "      </button>\n",
              "      \n",
              "  <style>\n",
              "    .colab-df-container {\n",
              "      display:flex;\n",
              "      flex-wrap:wrap;\n",
              "      gap: 12px;\n",
              "    }\n",
              "\n",
              "    .colab-df-convert {\n",
              "      background-color: #E8F0FE;\n",
              "      border: none;\n",
              "      border-radius: 50%;\n",
              "      cursor: pointer;\n",
              "      display: none;\n",
              "      fill: #1967D2;\n",
              "      height: 32px;\n",
              "      padding: 0 0 0 0;\n",
              "      width: 32px;\n",
              "    }\n",
              "\n",
              "    .colab-df-convert:hover {\n",
              "      background-color: #E2EBFA;\n",
              "      box-shadow: 0px 1px 2px rgba(60, 64, 67, 0.3), 0px 1px 3px 1px rgba(60, 64, 67, 0.15);\n",
              "      fill: #174EA6;\n",
              "    }\n",
              "\n",
              "    [theme=dark] .colab-df-convert {\n",
              "      background-color: #3B4455;\n",
              "      fill: #D2E3FC;\n",
              "    }\n",
              "\n",
              "    [theme=dark] .colab-df-convert:hover {\n",
              "      background-color: #434B5C;\n",
              "      box-shadow: 0px 1px 3px 1px rgba(0, 0, 0, 0.15);\n",
              "      filter: drop-shadow(0px 1px 2px rgba(0, 0, 0, 0.3));\n",
              "      fill: #FFFFFF;\n",
              "    }\n",
              "  </style>\n",
              "\n",
              "      <script>\n",
              "        const buttonEl =\n",
              "          document.querySelector('#df-53716487-3a8d-40fa-a15d-3aa1b59aa2ec button.colab-df-convert');\n",
              "        buttonEl.style.display =\n",
              "          google.colab.kernel.accessAllowed ? 'block' : 'none';\n",
              "\n",
              "        async function convertToInteractive(key) {\n",
              "          const element = document.querySelector('#df-53716487-3a8d-40fa-a15d-3aa1b59aa2ec');\n",
              "          const dataTable =\n",
              "            await google.colab.kernel.invokeFunction('convertToInteractive',\n",
              "                                                     [key], {});\n",
              "          if (!dataTable) return;\n",
              "\n",
              "          const docLinkHtml = 'Like what you see? Visit the ' +\n",
              "            '<a target=\"_blank\" href=https://colab.research.google.com/notebooks/data_table.ipynb>data table notebook</a>'\n",
              "            + ' to learn more about interactive tables.';\n",
              "          element.innerHTML = '';\n",
              "          dataTable['output_type'] = 'display_data';\n",
              "          await google.colab.output.renderOutput(dataTable, element);\n",
              "          const docLink = document.createElement('div');\n",
              "          docLink.innerHTML = docLinkHtml;\n",
              "          element.appendChild(docLink);\n",
              "        }\n",
              "      </script>\n",
              "    </div>\n",
              "  </div>\n",
              "  "
            ]
          },
          "metadata": {},
          "execution_count": 3
        }
      ]
    },
    {
      "cell_type": "markdown",
      "source": [
        "**Etape 2**:\n",
        "\n",
        "> Calculer distance entre chaque paire de points dans le problème du voyageur de commerce. La fonction \"distance_matrix\" est utilisée pour calculer la distance euclidienne entre chaque paire de points. Cette fonction est appliquée sur les colonnes \"x\" et \"y\" du DataFrame \"df\", qui contient les coordonnées de chaque point dans le problème.\n",
        "\n",
        "\n",
        ">  Pour créer une représentation graphique de la matrice de distances en utilisant une carte de chaleur (heatmap). La fonction \"heatmap\" est appelée en utilisant la matrice de distances \"distances\" comme données d'entrée. La colormap utilisée est \"Blues\", et les valeurs dans la carte de chaleur sont annotées en utilisant la fonction \"annot=True\". \n",
        "\n",
        "\n"
      ],
      "metadata": {
        "id": "6M1UsJe6A5Ub"
      }
    },
    {
      "metadata": {
        "trusted": true,
        "colab": {
          "base_uri": "https://localhost:8080/",
          "height": 622
        },
        "id": "JXjmiXYQdKb2",
        "outputId": "a25dbf26-d661-4abc-b291-a163c877875d"
      },
      "cell_type": "code",
      "source": [
        "# get distance matrix\n",
        "\n",
        "distances = pd.DataFrame(distance_matrix(df[['x', 'y']].values, df[['x', 'y']].values), index=df.index, columns=df.index).values\n",
        "\n",
        "fig, ax = plt.subplots(figsize=(8, 7))\n",
        "sns.heatmap(distances, ax=ax, cmap='Blues', annot=True, fmt='.0f', cbar=True, cbar_kws={\"shrink\": .3}, linewidths=.1)\n",
        "plt.title('distance matrix')\n",
        "plt.show()"
      ],
      "execution_count": 4,
      "outputs": [
        {
          "output_type": "display_data",
          "data": {
            "text/plain": [
              "<Figure size 800x700 with 2 Axes>"
            ],
            "image/png": "[encoded data removed]"
          },
          "metadata": {}
        }
      ]
    },
    {
      "cell_type": "markdown",
      "source": [
        "**Etape 3 **: \n",
        "\n",
        "\n",
        "> Si l'index de la ligne est égal à 0, le point est dessiné en rouge pour représenter le point de départ, sinon, le point est dessiné en noir. La fonction \"plt.text\" est utilisée pour ajouter l'identifiant de chaque point à côté de sa position sur le graphique.\n",
        "\n"
      ],
      "metadata": {
        "id": "JXeda6bQCtdS"
      }
    },
    {
      "metadata": {
        "trusted": true,
        "colab": {
          "base_uri": "https://localhost:8080/",
          "height": 468
        },
        "id": "n-WkQa-ndKb6",
        "outputId": "b3d87259-243e-488f-f5bf-c9eb4e58cce2"
      },
      "cell_type": "code",
      "source": [
        "# check TSP state\n",
        "\n",
        "plt.figure(figsize=(5, 5))\n",
        "\n",
        "# draw problem state\n",
        "for i, row in df.iterrows():\n",
        "    if i == 0:\n",
        "        plt.scatter(row['x'], row['y'], c='r')\n",
        "        plt.text(row['x'] + 1, row['y'] + 1, 'debut')\n",
        "    else:\n",
        "        plt.scatter(row['x'], row['y'], c='black')\n",
        "        plt.text(row['x'] + 1, row['y'] + 1, f'{i}')\n",
        "        \n",
        "plt.xlim([-10, 110])\n",
        "plt.ylim([-10, 110])\n",
        "plt.title('points: id')\n",
        "plt.show()"
      ],
      "execution_count": 5,
      "outputs": [
        {
          "output_type": "display_data",
          "data": {
            "text/plain": [
              "<Figure size 500x500 with 1 Axes>"
            ],
            "image/png": "[encoded data removed]"
          },
          "metadata": {}
        }
      ]
    },
    {
      "cell_type": "markdown",
      "source": [
        "**Etape 4**: \n",
        "\n",
        "\n",
        "> résout le problème du voyageur de commerce en utilisant la programmation linéaire en nombres entiers (PLNE). Le code utilise la bibliothèque \"PuLP\" pour définir le problème, les variables, l'objectif et les contraintes. Il résout ensuite le problème en appelant la méthode \"solve\" de l'objet \"problem\".\n",
        "\n",
        ">  Le nom du problème est \"tsp_mip\" et l'objectif est de minimiser la somme des distances parcourues.\n",
        "\n",
        "\n",
        "\n",
        "\n"
      ],
      "metadata": {
        "id": "aziaQ_zaDkHB"
      }
    },
    {
      "metadata": {
        "_uuid": "d629ff2d2480ee46fbb7e2d37f6b5fab8052498a",
        "_cell_guid": "79c7e3d0-c299-4dcb-8224-4455121ee9b0",
        "trusted": true,
        "colab": {
          "base_uri": "https://localhost:8080/"
        },
        "id": "C51PGsGvdKb9",
        "outputId": "49c1afba-8a59-4bfd-e3c6-c12749df6492"
      },
      "cell_type": "code",
      "source": [
        "%%time \n",
        "#  pour mesurer le temps d'exécution du bloc de code.\n",
        "\n",
        "# set problem\n",
        "problem = pulp.LpProblem('tsp_mip', pulp.LpMinimize)\n",
        "\n",
        "# set valiables\n",
        "x = pulp.LpVariable.dicts('x', ((i, j) for i in range(n_point) for j in range(n_point)), lowBound=0, upBound=1, cat='Binary')\n",
        "# we need to keep track of the order in the tour to eliminate the possibility of subtours\n",
        "u = pulp.LpVariable.dicts('u', (i for i in range(n_point)), lowBound=1, upBound=n_point, cat='Integer')\n",
        "\n",
        "# set objective function\n",
        "problem += pulp.lpSum(distances[i][j] * x[i, j] for i in range(n_point) for j in range(n_point))\n",
        "\n",
        "# set constrains\n",
        "for i in range(n_point):\n",
        "    problem += x[i, i] == 0\n",
        "\n",
        "for i in range(n_point):\n",
        "    problem += pulp.lpSum(x[i, j] for j in range(n_point)) == 1\n",
        "    problem += pulp.lpSum(x[j, i] for j in range(n_point)) == 1\n",
        "\n",
        "# eliminate subtour\n",
        "for i in range(n_point):\n",
        "    for j in range(n_point):\n",
        "        if i != j and (i != 0 and j != 0):\n",
        "            problem += u[i] - u[j] <= n_point * (1 - x[i, j]) - 1\n",
        "            \n",
        "# solve problem\n",
        "status = problem.solve()\n",
        "\n",
        "# output status, value of objective function\n",
        "status, pulp.LpStatus[status], pulp.value(problem.objective)"
      ],
      "execution_count": 6,
      "outputs": [
        {
          "output_type": "stream",
          "name": "stdout",
          "text": [
            "CPU times: user 13.1 ms, sys: 1.91 ms, total: 15 ms\n",
            "Wall time: 151 ms\n"
          ]
        },
        {
          "output_type": "execute_result",
          "data": {
            "text/plain": [
              "(1, 'Optimal', 325.8519884328648)"
            ]
          },
          "metadata": {},
          "execution_count": 6
        }
      ]
    },
    {
      "metadata": {
        "id": "IaUGdggidKcA"
      },
      "cell_type": "markdown",
      "source": [
        "## Vehicle Routing Problem; VRP\n",
        "\n",
        "\n",
        "> Ce code peut être utilisé pour générer des données d'entrée pour résoudre un problème de tournée de véhicules avec un algorithme de recherche de chemin optimal tel que l'algorithme de recherche de chemin le plus court  ou l'algorithme de recherche en largeur.\n",
        "\n"
      ]
    },
    {
      "metadata": {
        "trusted": true,
        "colab": {
          "base_uri": "https://localhost:8080/",
          "height": 363
        },
        "id": "LlEIZkuIdKcB",
        "outputId": "86d55e28-9adb-4dde-8f75-14db24293c96"
      },
      "cell_type": "code",
      "source": [
        "\n",
        "n_customer = 9\n",
        "n_point = n_customer + 1\n",
        "vehicle_capacity = 8\n",
        "\n",
        "df = pd.DataFrame({\n",
        "    'x': np.random.randint(0, 100, n_point),\n",
        "    'y': np.random.randint(0, 100, n_point),\n",
        "    'demand': np.random.randint(1, 5, n_point), # la demande de chaque client en unités, également générée aléatoirement entre 1 et 4.\n",
        "})\n",
        "\n",
        "df.iloc[0]['x'] = 0\n",
        "df.iloc[0]['y'] = 0\n",
        "df.iloc[0]['demand'] = 0\n",
        "\n",
        "df"
      ],
      "execution_count": 7,
      "outputs": [
        {
          "output_type": "execute_result",
          "data": {
            "text/plain": [
              "    x   y  demand\n",
              "0   0   0       0\n",
              "1  66   0       3\n",
              "2  71  48       2\n",
              "3  76  18       1\n",
              "4   8  46       1\n",
              "5  33  11       2\n",
              "6  12  37       2\n",
              "7  78  43       1\n",
              "8  34  26       3\n",
              "9  67  21       3"
            ],
            "text/html": [
              "\n",
              "  <div id=\"df-b65fc339-b0d2-47ca-ad23-c2b14fbc2a15\">\n",
              "    <div class=\"colab-df-container\">\n",
              "      <div>\n",
              "<style scoped>\n",
              "    .dataframe tbody tr th:only-of-type {\n",
              "        vertical-align: middle;\n",
              "    }\n",
              "\n",
              "    .dataframe tbody tr th {\n",
              "        vertical-align: top;\n",
              "    }\n",
              "\n",
              "    .dataframe thead th {\n",
              "        text-align: right;\n",
              "    }\n",
              "</style>\n",
              "<table border=\"1\" class=\"dataframe\">\n",
              "  <thead>\n",
              "    <tr style=\"text-align: right;\">\n",
              "      <th></th>\n",
              "      <th>x</th>\n",
              "      <th>y</th>\n",
              "      <th>demand</th>\n",
              "    </tr>\n",
              "  </thead>\n",
              "  <tbody>\n",
              "    <tr>\n",
              "      <th>0</th>\n",
              "      <td>0</td>\n",
              "      <td>0</td>\n",
              "      <td>0</td>\n",
              "    </tr>\n",
              "    <tr>\n",
              "      <th>1</th>\n",
              "      <td>66</td>\n",
              "      <td>0</td>\n",
              "      <td>3</td>\n",
              "    </tr>\n",
              "    <tr>\n",
              "      <th>2</th>\n",
              "      <td>71</td>\n",
              "      <td>48</td>\n",
              "      <td>2</td>\n",
              "    </tr>\n",
              "    <tr>\n",
              "      <th>3</th>\n",
              "      <td>76</td>\n",
              "      <td>18</td>\n",
              "      <td>1</td>\n",
              "    </tr>\n",
              "    <tr>\n",
              "      <th>4</th>\n",
              "      <td>8</td>\n",
              "      <td>46</td>\n",
              "      <td>1</td>\n",
              "    </tr>\n",
              "    <tr>\n",
              "      <th>5</th>\n",
              "      <td>33</td>\n",
              "      <td>11</td>\n",
              "      <td>2</td>\n",
              "    </tr>\n",
              "    <tr>\n",
              "      <th>6</th>\n",
              "      <td>12</td>\n",
              "      <td>37</td>\n",
              "      <td>2</td>\n",
              "    </tr>\n",
              "    <tr>\n",
              "      <th>7</th>\n",
              "      <td>78</td>\n",
              "      <td>43</td>\n",
              "      <td>1</td>\n",
              "    </tr>\n",
              "    <tr>\n",
              "      <th>8</th>\n",
              "      <td>34</td>\n",
              "      <td>26</td>\n",
              "      <td>3</td>\n",
              "    </tr>\n",
              "    <tr>\n",
              "      <th>9</th>\n",
              "      <td>67</td>\n",
              "      <td>21</td>\n",
              "      <td>3</td>\n",
              "    </tr>\n",
              "  </tbody>\n",
              "</table>\n",
              "</div>\n",
              "      <button class=\"colab-df-convert\" onclick=\"convertToInteractive('df-b65fc339-b0d2-47ca-ad23-c2b14fbc2a15')\"\n",
              "              title=\"Convert this dataframe to an interactive table.\"\n",
              "              style=\"display:none;\">\n",
              "        \n",
              "  <svg xmlns=\"http://www.w3.org/2000/svg\" height=\"24px\"viewBox=\"0 0 24 24\"\n",
              "       width=\"24px\">\n",
              "    <path d=\"M0 0h24v24H0V0z\" fill=\"none\"/>\n",
              "    <path d=\"M18.56 5.44l.94 2.06.94-2.06 2.06-.94-2.06-.94-.94-2.06-.94 2.06-2.06.94zm-11 1L8.5 8.5l.94-2.06 2.06-.94-2.06-.94L8.5 2.5l-.94 2.06-2.06.94zm10 10l.94 2.06.94-2.06 2.06-.94-2.06-.94-.94-2.06-.94 2.06-2.06.94z\"/><path d=\"M17.41 7.96l-1.37-1.37c-.4-.4-.92-.59-1.43-.59-.52 0-1.04.2-1.43.59L10.3 9.45l-7.72 7.72c-.78.78-.78 2.05 0 2.83L4 21.41c.39.39.9.59 1.41.59.51 0 1.02-.2 1.41-.59l7.78-7.78 2.81-2.81c.8-.78.8-2.07 0-2.86zM5.41 20L4 18.59l7.72-7.72 1.47 1.35L5.41 20z\"/>\n",
              "  </svg>\n",
              "      </button>\n",
              "      \n",
              "  <style>\n",
              "    .colab-df-container {\n",
              "      display:flex;\n",
              "      flex-wrap:wrap;\n",
              "      gap: 12px;\n",
              "    }\n",
              "\n",
              "    .colab-df-convert {\n",
              "      background-color: #E8F0FE;\n",
              "      border: none;\n",
              "      border-radius: 50%;\n",
              "      cursor: pointer;\n",
              "      display: none;\n",
              "      fill: #1967D2;\n",
              "      height: 32px;\n",
              "      padding: 0 0 0 0;\n",
              "      width: 32px;\n",
              "    }\n",
              "\n",
              "    .colab-df-convert:hover {\n",
              "      background-color: #E2EBFA;\n",
              "      box-shadow: 0px 1px 2px rgba(60, 64, 67, 0.3), 0px 1px 3px 1px rgba(60, 64, 67, 0.15);\n",
              "      fill: #174EA6;\n",
              "    }\n",
              "\n",
              "    [theme=dark] .colab-df-convert {\n",
              "      background-color: #3B4455;\n",
              "      fill: #D2E3FC;\n",
              "    }\n",
              "\n",
              "    [theme=dark] .colab-df-convert:hover {\n",
              "      background-color: #434B5C;\n",
              "      box-shadow: 0px 1px 3px 1px rgba(0, 0, 0, 0.15);\n",
              "      filter: drop-shadow(0px 1px 2px rgba(0, 0, 0, 0.3));\n",
              "      fill: #FFFFFF;\n",
              "    }\n",
              "  </style>\n",
              "\n",
              "      <script>\n",
              "        const buttonEl =\n",
              "          document.querySelector('#df-b65fc339-b0d2-47ca-ad23-c2b14fbc2a15 button.colab-df-convert');\n",
              "        buttonEl.style.display =\n",
              "          google.colab.kernel.accessAllowed ? 'block' : 'none';\n",
              "\n",
              "        async function convertToInteractive(key) {\n",
              "          const element = document.querySelector('#df-b65fc339-b0d2-47ca-ad23-c2b14fbc2a15');\n",
              "          const dataTable =\n",
              "            await google.colab.kernel.invokeFunction('convertToInteractive',\n",
              "                                                     [key], {});\n",
              "          if (!dataTable) return;\n",
              "\n",
              "          const docLinkHtml = 'Like what you see? Visit the ' +\n",
              "            '<a target=\"_blank\" href=https://colab.research.google.com/notebooks/data_table.ipynb>data table notebook</a>'\n",
              "            + ' to learn more about interactive tables.';\n",
              "          element.innerHTML = '';\n",
              "          dataTable['output_type'] = 'display_data';\n",
              "          await google.colab.output.renderOutput(dataTable, element);\n",
              "          const docLink = document.createElement('div');\n",
              "          docLink.innerHTML = docLinkHtml;\n",
              "          element.appendChild(docLink);\n",
              "        }\n",
              "      </script>\n",
              "    </div>\n",
              "  </div>\n",
              "  "
            ]
          },
          "metadata": {},
          "execution_count": 7
        }
      ]
    },
    {
      "cell_type": "markdown",
      "source": [
        "**Etape 2 **: \n",
        "\n",
        "\n",
        "> Si l'index de la ligne est égal à 0, le point est dessiné en rouge pour représenter le point de départ, sinon, le point est dessiné en noir. La fonction \"plt.text\" est utilisée pour ajouter l'identifiant de chaque point 'demand' à côté de sa position sur le graphique."
      ],
      "metadata": {
        "id": "E_jEgf2KGIpK"
      }
    },
    {
      "metadata": {
        "trusted": true,
        "colab": {
          "base_uri": "https://localhost:8080/",
          "height": 468
        },
        "id": "e1V2yXDidKcI",
        "outputId": "c83a3d7c-58e7-4987-d3be-f6ba03b07dab"
      },
      "cell_type": "code",
      "source": [
        "# check VRP state\n",
        "\n",
        "plt.figure(figsize=(5, 5))\n",
        "\n",
        "# draw problem state\n",
        "for i, row in df.iterrows():\n",
        "    if i == 0:\n",
        "        plt.scatter(row['x'], row['y'], c='r')\n",
        "        plt.text(row['x'] + 1, row['y'] + 1, 'depot')\n",
        "    else:\n",
        "        plt.scatter(row['x'], row['y'], c='black')\n",
        "        demand = row['demand']\n",
        "        plt.text(row['x'] + 1, row['y'] + 1, f'{i}({demand})')\n",
        "        \n",
        "plt.xlim([-10, 110])\n",
        "plt.ylim([-10, 110])\n",
        "plt.title('points: id(demand)')\n",
        "plt.show()"
      ],
      "execution_count": 8,
      "outputs": [
        {
          "output_type": "display_data",
          "data": {
            "text/plain": [
              "<Figure size 500x500 with 1 Axes>"
            ],
            "image/png": "[encoded data removed]"
          },
          "metadata": {}
        }
      ]
    },
    {
      "cell_type": "markdown",
      "source": [
        "# Etape 3:\n",
        "\n",
        "> résout le problème du voyageur de commerce en utilisant la programmation linéaire en nombres entiers (PLNE). Le code utilise la bibliothèque \"PuLP\" pour définir le problème, les variables, l'objectif et les contraintes. Il résout ensuite le problème en appelant la méthode \"solve\" de l'objet \"problem\".\n",
        "Le nom du problème est \"tsp_mip\" et l'objectif est de minimiser la somme des distances parcourues\n",
        "\n"
      ],
      "metadata": {
        "id": "tVBY07osGorh"
      }
    },
    {
      "metadata": {
        "trusted": true,
        "colab": {
          "base_uri": "https://localhost:8080/"
        },
        "id": "ZIzeiHPIdKcJ",
        "outputId": "6ab0a233-14e0-4f27-f9fd-d77f2f5ba975"
      },
      "cell_type": "code",
      "source": [
        "%%time\n",
        "\n",
        "demands = df['demand'].values\n",
        "\n",
        "# set problem\n",
        "problem = pulp.LpProblem('cvrp_mip', pulp.LpMinimize)\n",
        "\n",
        "# set variables\n",
        "x = pulp.LpVariable.dicts('x', ((i, j) for i in range(n_point) for j in range(n_point)), lowBound=0, upBound=1, cat='Binary')\n",
        "n_vehicle = pulp.LpVariable('n_vehicle', lowBound=0, upBound=100, cat='Integer')\n",
        "\n",
        "# set objective function\n",
        "problem += pulp.lpSum([distances[i][j] * x[i, j] for i in range(n_point) for j in range(n_point)])\n",
        "\n",
        "# set constrains\n",
        "for i in range(n_point):\n",
        "    problem += x[i, i] == 0\n",
        "    \n",
        "for i in range(1, n_point):\n",
        "    problem += pulp.lpSum(x[j, i] for j in range(n_point)) == 1\n",
        "    problem += pulp.lpSum(x[i, j] for j in range(n_point)) == 1\n",
        "        \n",
        "problem += pulp.lpSum(x[i, 0] for i in range(n_point)) == n_vehicle\n",
        "problem += pulp.lpSum(x[0, i] for i in range(n_point)) == n_vehicle\n",
        "\n",
        "# eliminate subtour\n",
        "subtours = []\n",
        "for length in range(2, n_point):\n",
        "     subtours += itertools.combinations(range(1, n_point), length)\n",
        "\n",
        "for st in subtours:\n",
        "    demand = np.sum([demands[s] for s in st])\n",
        "    arcs = [x[i, j] for i, j in itertools.permutations(st, 2)]\n",
        "    problem += pulp.lpSum(arcs) <= np.max([0, len(st) - np.ceil(demand / vehicle_capacity)])\n",
        "\n",
        "# solve problem\n",
        "status = problem.solve()\n",
        "\n",
        "# output status, value of objective function\n",
        "status, pulp.LpStatus[status], pulp.value(problem.objective)"
      ],
      "execution_count": 9,
      "outputs": [
        {
          "output_type": "stream",
          "name": "stdout",
          "text": [
            "CPU times: user 74.5 ms, sys: 960 µs, total: 75.5 ms\n",
            "Wall time: 172 ms\n"
          ]
        },
        {
          "output_type": "execute_result",
          "data": {
            "text/plain": [
              "(1, 'Optimal', 583.5194028572826)"
            ]
          },
          "metadata": {},
          "execution_count": 9
        }
      ]
    },
    {
      "cell_type": "markdown",
      "source": [
        "**La fonction pulp.value est utilisée pour extraire la valeur de la variable n_vehicle dans la solution optimale du problème.**"
      ],
      "metadata": {
        "id": "S2llB1DbHaUS"
      }
    },
    {
      "metadata": {
        "trusted": true,
        "colab": {
          "base_uri": "https://localhost:8080/"
        },
        "id": "PiTet9aRdKcL",
        "outputId": "2a31dd7c-977c-4c56-f7d6-ab0f622b1944"
      },
      "cell_type": "code",
      "source": [
        "pulp.value(n_vehicle)"
      ],
      "execution_count": 10,
      "outputs": [
        {
          "output_type": "execute_result",
          "data": {
            "text/plain": [
              "3.0"
            ]
          },
          "metadata": {},
          "execution_count": 10
        }
      ]
    },
    {
      "metadata": {
        "trusted": true,
        "colab": {
          "base_uri": "https://localhost:8080/",
          "height": 468
        },
        "id": "PlSkpYUNdKcM",
        "outputId": "60201c45-1cf8-44f1-db5f-08169270eceb"
      },
      "cell_type": "code",
      "source": [
        "# check TSP problem and optimized route\n",
        "\n",
        "plt.figure(figsize=(5, 5))\n",
        "\n",
        "# draw problem state\n",
        "for i, row in df.iterrows():\n",
        "    if i == 0:\n",
        "        plt.scatter(row['x'], row['y'], c='r')\n",
        "        plt.text(row['x'] + 1, row['y'] + 1, 'depot')\n",
        "    else:\n",
        "        plt.scatter(row['x'], row['y'], c='black')\n",
        "        demand = row['demand']\n",
        "        plt.text(row['x'] + 1, row['y'] + 1, f'{i}({demand})')\n",
        "        \n",
        "plt.xlim([-10, 110])\n",
        "plt.ylim([-10, 110])\n",
        "plt.title('points: id(demand)')\n",
        "\n",
        "# draw optimal route\n",
        "cmap = matplotlib.cm.get_cmap('Dark2')\n",
        "routes = [(i, j) for i in range(n_point) for j in range(n_point) if pulp.value(x[i, j]) == 1]\n",
        "\n",
        "for v in range(int(pulp.value(n_vehicle))):\n",
        "    \n",
        "    # identify the route of each vehicle\n",
        "    vehicle_route = [routes[v]]\n",
        "    while vehicle_route[-1][1] != 0:\n",
        "        for p in routes:\n",
        "            if p[0] == vehicle_route[-1][1]:\n",
        "                vehicle_route.append(p)\n",
        "                break\n",
        "\n",
        "    # draw for each vehicle\n",
        "    arrowprops = dict(arrowstyle='->', connectionstyle='arc3', edgecolor=cmap(v))\n",
        "    for i, j in vehicle_route:\n",
        "        plt.annotate('', xy=[df.iloc[j]['x'], df.iloc[j]['y']], xytext=[df.iloc[i]['x'], df.iloc[i]['y']], arrowprops=arrowprops)\n",
        "                \n",
        "plt.show()"
      ],
      "execution_count": 11,
      "outputs": [
        {
          "output_type": "display_data",
          "data": {
            "text/plain": [
              "<Figure size 500x500 with 1 Axes>"
            ],
            "image/png": "[encoded data removed]"
          },
          "metadata": {}
        }
      ]
    },
    {
      "metadata": {
        "trusted": true,
        "id": "N_npeu_CdKcN"
      },
      "cell_type": "code",
      "source": [],
      "execution_count": 11,
      "outputs": []
    }
  ],
  "metadata": {
    "kernelspec": {
      "language": "python",
      "display_name": "Python 3",
      "name": "python3"
    },
    "language_info": {
      "pygments_lexer": "ipython3",
      "nbconvert_exporter": "python",
      "version": "3.6.4",
      "file_extension": ".py",
      "codemirror_mode": {
        "name": "ipython",
        "version": 3
      },
      "name": "python",
      "mimetype": "text/x-python"
    },
    "colab": {
      "provenance": [],
      "include_colab_link": true
    }
  },
  "nbformat": 4,
  "nbformat_minor": 0
}